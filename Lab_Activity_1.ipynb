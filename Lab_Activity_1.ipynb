{
  "nbformat": 4,
  "nbformat_minor": 0,
  "metadata": {
    "colab": {
      "provenance": [],
      "authorship_tag": "ABX9TyPRJY3YP7r27vz1t97ywER/",
      "include_colab_link": true
    },
    "kernelspec": {
      "name": "python3",
      "display_name": "Python 3"
    },
    "language_info": {
      "name": "python"
    }
  },
  "cells": [
    {
      "cell_type": "markdown",
      "metadata": {
        "id": "view-in-github",
        "colab_type": "text"
      },
      "source": [
        "<a href=\"https://colab.research.google.com/github/yannahgonzales/CPE-21A-PLD-1-1/blob/main/Lab_Activity_1.ipynb\" target=\"_parent\"><img src=\"https://colab.research.google.com/assets/colab-badge.svg\" alt=\"Open In Colab\"/></a>"
      ]
    },
    {
      "cell_type": "code",
      "source": [
        "#Problem 1\n",
        "\n",
        "n = 20\n",
        "totalnumbers = n\n",
        "sum = 0\n",
        "average = 0\n",
        "\n",
        "while n>=0:\n",
        "  sum+=n\n",
        "  n-=1\n",
        "print(sum)\n",
        "\n",
        "average= sum/totalnumbers\n",
        "print (average)"
      ],
      "metadata": {
        "colab": {
          "base_uri": "https://localhost:8080/"
        },
        "id": "6JvqC7xDxzIN",
        "outputId": "40c9aab5-e108-4937-9a59-416b54a48296"
      },
      "execution_count": 14,
      "outputs": [
        {
          "output_type": "stream",
          "name": "stdout",
          "text": [
            "210\n",
            "10.5\n"
          ]
        }
      ]
    },
    {
      "cell_type": "code",
      "source": [
        "class Student:\n",
        "  def __init__(self, Name, Student_No, Age, School, Course):\n",
        "    self.Name = Name\n",
        "    self.Student_No = Student_No\n",
        "    self.Age = Age\n",
        "    self.School = School\n",
        "    self.Course = Course\n",
        "  \n",
        "  def Info(self):\n",
        "    return self.Name + self.Student_No + self.Age + self.School + self.Course\n",
        "\n",
        "Myself = Student(\"My name is Yannah De Leon Gonzales, \" , \"my student number is 202201181, \" , \"my age is 19 years old, \" , \"I'm a student at Cavite State University - Indang, \" , \"my course is BSCPE 1-1 \")\n",
        "print(\"My student info:\", Myself.Info())\n"
      ],
      "metadata": {
        "colab": {
          "base_uri": "https://localhost:8080/"
        },
        "id": "zyB8Ny5I5KzZ",
        "outputId": "ed18741f-1bd9-407d-995d-7f2ae2c215b3"
      },
      "execution_count": 38,
      "outputs": [
        {
          "output_type": "stream",
          "name": "stdout",
          "text": [
            "My student info: My name is Yannah De Leon Gonzales, my student number is 202201181, my age is 19 years old, I'm a student at Cavite State University - Indang, my course is BSCPE 1-1 \n"
          ]
        }
      ]
    }
  ]
}