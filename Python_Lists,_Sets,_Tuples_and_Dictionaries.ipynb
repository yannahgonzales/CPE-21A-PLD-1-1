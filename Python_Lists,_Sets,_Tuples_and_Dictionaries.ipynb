{
  "nbformat": 4,
  "nbformat_minor": 0,
  "metadata": {
    "colab": {
      "provenance": [],
      "authorship_tag": "ABX9TyN4cwoIen2OsvzV3mZ/RrKB",
      "include_colab_link": true
    },
    "kernelspec": {
      "name": "python3",
      "display_name": "Python 3"
    },
    "language_info": {
      "name": "python"
    }
  },
  "cells": [
    {
      "cell_type": "markdown",
      "metadata": {
        "id": "view-in-github",
        "colab_type": "text"
      },
      "source": [
        "<a href=\"https://colab.research.google.com/github/yannahgonzales/CPE-21A-PLD-1-1/blob/main/Python_Lists%2C_Sets%2C_Tuples_and_Dictionaries.ipynb\" target=\"_parent\"><img src=\"https://colab.research.google.com/assets/colab-badge.svg\" alt=\"Open In Colab\"/></a>"
      ]
    },
    {
      "cell_type": "code",
      "execution_count": null,
      "metadata": {
        "colab": {
          "base_uri": "https://localhost:8080/"
        },
        "id": "VAveo_qN0vDE",
        "outputId": "9675e0e8-d7a9-41e3-fb86-9761b4e3e450"
      },
      "outputs": [
        {
          "output_type": "stream",
          "name": "stdout",
          "text": [
            "1\n",
            "[1, 2, 'A', 'B', 'Hello', 'World']\n"
          ]
        }
      ],
      "source": [
        "#Lists\n",
        "\n",
        "pi = 3.14159\n",
        "varlist = [1,2, 'A', 'B', \"Hello\", pi]\n",
        "print(varlist[0])\n",
        "\n",
        "varlist.append(\"World\")\n",
        "len(varlist)\n",
        "\n",
        "varlist.remove(pi)\n",
        "print(varlist)"
      ]
    },
    {
      "cell_type": "code",
      "source": [
        "#Python Dictionary\n",
        "\n",
        "thisdict = {\n",
        "            \"name\": \"Yannah\",\n",
        "            \"age\": 19,\n",
        "            \"bday\": \"December 19, 2003\"\n",
        "            }\n",
        "\n",
        "print(thisdict)"
      ],
      "metadata": {
        "colab": {
          "base_uri": "https://localhost:8080/"
        },
        "id": "4McYH5j81ht0",
        "outputId": "15931007-51cd-4c20-d45c-82ac94f42487"
      },
      "execution_count": null,
      "outputs": [
        {
          "output_type": "stream",
          "name": "stdout",
          "text": [
            "{'name': 'Yannah', 'age': 19, 'bday': 'December 19, 2003'}\n"
          ]
        }
      ]
    },
    {
      "cell_type": "code",
      "source": [
        "#List Generators and Comprehension\n",
        "\n",
        "varList = [0,1,2,3,4]\n",
        "print(varList)                    #0\n",
        "varList = range(0,5,4)            #0+4 = 4\n",
        "print([var for var in varList])   #4+4 = 8"
      ],
      "metadata": {
        "colab": {
          "base_uri": "https://localhost:8080/"
        },
        "id": "LtMXwvpl2aah",
        "outputId": "c8623e2b-4732-4d6e-bdfa-b79d2c5fed38"
      },
      "execution_count": null,
      "outputs": [
        {
          "output_type": "stream",
          "name": "stdout",
          "text": [
            "[0, 1, 2, 3, 4]\n",
            "[0, 4]\n"
          ]
        }
      ]
    },
    {
      "cell_type": "code",
      "source": [
        "#Slicing\n",
        "\n",
        "varList = [1, 2, 3, 4, 5, 6, 7, 8, 9, 10]\n",
        "print(varList[:5])\n",
        "print(varList[5:])\n",
        "print(varList[:-2])\n",
        "print(varList[-2:])\n",
        "print(varList[2:-2])\n",
        "print(varList[2:8:2])"
      ],
      "metadata": {
        "id": "gDtvQyhI42ID",
        "colab": {
          "base_uri": "https://localhost:8080/"
        },
        "outputId": "032fcd68-ef77-4e76-f36a-d93fe1fe8d9d"
      },
      "execution_count": 13,
      "outputs": [
        {
          "output_type": "stream",
          "name": "stdout",
          "text": [
            "[1, 2, 3, 4, 5]\n",
            "[6, 7, 8, 9, 10]\n",
            "[1, 2, 3, 4, 5, 6, 7, 8]\n",
            "[9, 10]\n",
            "[3, 4, 5, 6, 7, 8]\n",
            "[3, 5, 7]\n"
          ]
        }
      ]
    }
  ]
}