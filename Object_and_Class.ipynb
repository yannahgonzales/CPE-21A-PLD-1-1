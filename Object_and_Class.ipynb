{
  "nbformat": 4,
  "nbformat_minor": 0,
  "metadata": {
    "colab": {
      "provenance": [],
      "authorship_tag": "ABX9TyMIy9xF9ljzRAw3FSKOZj90",
      "include_colab_link": true
    },
    "kernelspec": {
      "name": "python3",
      "display_name": "Python 3"
    },
    "language_info": {
      "name": "python"
    }
  },
  "cells": [
    {
      "cell_type": "markdown",
      "metadata": {
        "id": "view-in-github",
        "colab_type": "text"
      },
      "source": [
        "<a href=\"https://colab.research.google.com/github/yannahgonzales/CPE-21A-PLD-1-1/blob/main/Object_and_Class.ipynb\" target=\"_parent\"><img src=\"https://colab.research.google.com/assets/colab-badge.svg\" alt=\"Open In Colab\"/></a>"
      ]
    },
    {
      "cell_type": "code",
      "source": [
        "#Creating class and object\n",
        "\n",
        "class Person:                         #creating class named as Person\n",
        "  def __init__(self,name,age):\n",
        "    self.name = name\n",
        "    self.age = age\n",
        "\n",
        "person = Person(\"Yannah\",19)          #creating object name person\n",
        "print(\"My namae is\", person.name)\n",
        "print(\"My age is\", person.age)\n",
        "\n",
        "class Student(Person):\n",
        "  pass\n",
        "  \n",
        "person2 = Student(\"Ana\",20)\n",
        "print(person2.name)\n",
        "print(person2.age)"
      ],
      "metadata": {
        "colab": {
          "base_uri": "https://localhost:8080/"
        },
        "id": "p5le1_ii3b-b",
        "outputId": "e091f472-e957-427b-b113-fbc7477513ef"
      },
      "execution_count": null,
      "outputs": [
        {
          "output_type": "stream",
          "name": "stdout",
          "text": [
            "My namae is Yannah\n",
            "My age is 19\n",
            "Ana\n",
            "20\n"
          ]
        }
      ]
    },
    {
      "cell_type": "code",
      "source": [
        "#Application 1\n",
        "\n",
        "class Shape:\n",
        "  def __init__(shape,length,width):\n",
        "    shape.length = length\n",
        "    shape.width = width\n",
        "\n",
        "class Square(Shape):\n",
        "  pass\n",
        "\n",
        "square = Square(10,10)\n",
        "print(square.length)\n",
        "print(square.width)"
      ],
      "metadata": {
        "id": "BACsXQB15TKU",
        "colab": {
          "base_uri": "https://localhost:8080/"
        },
        "outputId": "b88a7e05-a25b-4c7d-a051-8d0e088021e0"
      },
      "execution_count": 1,
      "outputs": [
        {
          "output_type": "stream",
          "name": "stdout",
          "text": [
            "10\n",
            "10\n"
          ]
        }
      ]
    },
    {
      "cell_type": "code",
      "source": [
        "#Application 1\n",
        "\n",
        "class Shape:\n",
        "  def __init__(shape,length,width):\n",
        "    shape.length = length\n",
        "    shape.width = width\n",
        "\n",
        "class Square(Shape):\n",
        "  pass\n",
        "\n",
        "square = Square(10,10)\n",
        "\n",
        "print(\"Area is\", square.length * square.width)\n",
        "print(\"Perimeter is\", (square.length + square.width)*2)\n"
      ],
      "metadata": {
        "colab": {
          "base_uri": "https://localhost:8080/"
        },
        "id": "jWNdBE9Ij34q",
        "outputId": "16cc7f18-d762-4183-dfde-49d95bcbdd5b"
      },
      "execution_count": 3,
      "outputs": [
        {
          "output_type": "stream",
          "name": "stdout",
          "text": [
            "Area is 100\n",
            "Perimeter is 40\n"
          ]
        }
      ]
    }
  ]
}